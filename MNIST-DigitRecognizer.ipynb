{
 "cells": [
  {
   "cell_type": "code",
   "execution_count": 8,
   "metadata": {},
   "outputs": [
    {
     "name": "stdout",
     "output_type": "stream",
     "text": [
      "Epoch 1/20\n",
      "60000/60000 [==============================] - 5s 77us/sample - loss: 0.2060 - acc: 0.9394\n",
      "Epoch 2/20\n",
      "60000/60000 [==============================] - 5s 77us/sample - loss: 0.0817 - acc: 0.9747\n",
      "Epoch 3/20\n",
      "60000/60000 [==============================] - 5s 86us/sample - loss: 0.0526 - acc: 0.9832\n",
      "Epoch 4/20\n",
      "60000/60000 [==============================] - 5s 80us/sample - loss: 0.0369 - acc: 0.9880\n",
      "Epoch 5/20\n",
      "60000/60000 [==============================] - 5s 81us/sample - loss: 0.0263 - acc: 0.9915\n",
      "Epoch 6/20\n",
      "60000/60000 [==============================] - 5s 90us/sample - loss: 0.0206 - acc: 0.9934\n",
      "Epoch 7/20\n",
      "60000/60000 [==============================] - 5s 85us/sample - loss: 0.0168 - acc: 0.9943\n",
      "Epoch 8/20\n",
      "60000/60000 [==============================] - 5s 82us/sample - loss: 0.0143 - acc: 0.9951\n",
      "Epoch 9/20\n",
      "60000/60000 [==============================] - 5s 82us/sample - loss: 0.0120 - acc: 0.9960\n",
      "Epoch 10/20\n",
      "60000/60000 [==============================] - 5s 80us/sample - loss: 0.0107 - acc: 0.9964\n",
      "Epoch 11/20\n",
      "60000/60000 [==============================] - 5s 79us/sample - loss: 0.0095 - acc: 0.9966\n",
      "Epoch 12/20\n",
      "60000/60000 [==============================] - 5s 81us/sample - loss: 0.0101 - acc: 0.9967\n",
      "Epoch 13/20\n",
      "59808/60000 [============================>.] - ETA: 0s - loss: 0.0074 - acc: 0.9977\n",
      "Reached 99.75% accuracy so cancelling training!\n",
      "60000/60000 [==============================] - 5s 82us/sample - loss: 0.0074 - acc: 0.9977\n"
     ]
    },
    {
     "data": {
      "text/plain": [
       "<tensorflow.python.keras.callbacks.History at 0x287b491a208>"
      ]
     },
     "execution_count": 8,
     "metadata": {},
     "output_type": "execute_result"
    }
   ],
   "source": [
    "import tensorflow as tf\n",
    "\n",
    "class myCallback(tf.keras.callbacks.Callback):\n",
    "  def on_epoch_end(self, epoch, logs={}):\n",
    "    if(logs.get('acc')>0.9975):\n",
    "      print(\"\\nReached 99.75% accuracy so cancelling training!\")\n",
    "      self.model.stop_training = True\n",
    "\n",
    "mnist = tf.keras.datasets.mnist\n",
    "\n",
    "(x_train, y_train),(x_test, y_test) = mnist.load_data()\n",
    "x_train, x_test = x_train / 255.0, x_test / 255.0\n",
    "\n",
    "callbacks = myCallback()\n",
    "\n",
    "model = tf.keras.models.Sequential([\n",
    "  tf.keras.layers.Flatten(input_shape=(28, 28)),\n",
    "  tf.keras.layers.Dense(512, activation=tf.nn.relu),\n",
    "  tf.keras.layers.Dense(10, activation=tf.nn.softmax)\n",
    "])\n",
    "model.compile(optimizer='adam',\n",
    "              loss='sparse_categorical_crossentropy',\n",
    "              metrics=['accuracy'])\n",
    "\n",
    "model.fit(x_train, y_train, epochs=20, callbacks=[callbacks])"
   ]
  },
  {
   "cell_type": "code",
   "execution_count": 7,
   "metadata": {},
   "outputs": [
    {
     "name": "stdout",
     "output_type": "stream",
     "text": [
      "10000/10000 [==============================] - 1s 65us/sample - loss: 0.0770 - acc: 0.9831\n"
     ]
    },
    {
     "data": {
      "text/plain": [
       "[0.0770321949181568, 0.9831]"
      ]
     },
     "execution_count": 7,
     "metadata": {},
     "output_type": "execute_result"
    }
   ],
   "source": [
    "model.evaluate(x_test, y_test)"
   ]
  },
  {
   "cell_type": "code",
   "execution_count": null,
   "metadata": {},
   "outputs": [],
   "source": []
  }
 ],
 "metadata": {
  "kernelspec": {
   "display_name": "Python 3",
   "language": "python",
   "name": "python3"
  },
  "language_info": {
   "codemirror_mode": {
    "name": "ipython",
    "version": 3
   },
   "file_extension": ".py",
   "mimetype": "text/x-python",
   "name": "python",
   "nbconvert_exporter": "python",
   "pygments_lexer": "ipython3",
   "version": "3.7.1"
  }
 },
 "nbformat": 4,
 "nbformat_minor": 4
}
