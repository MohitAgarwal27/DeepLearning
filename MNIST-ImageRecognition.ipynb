{
 "cells": [
  {
   "cell_type": "markdown",
   "metadata": {},
   "source": [
    "# Coursera"
   ]
  },
  {
   "cell_type": "code",
   "execution_count": 1,
   "metadata": {},
   "outputs": [
    {
     "name": "stderr",
     "output_type": "stream",
     "text": [
      "C:\\Users\\mohit\\Anaconda3\\lib\\site-packages\\tensorflow\\python\\framework\\dtypes.py:516: FutureWarning: Passing (type, 1) or '1type' as a synonym of type is deprecated; in a future version of numpy, it will be understood as (type, (1,)) / '(1,)type'.\n",
      "  _np_qint8 = np.dtype([(\"qint8\", np.int8, 1)])\n",
      "C:\\Users\\mohit\\Anaconda3\\lib\\site-packages\\tensorflow\\python\\framework\\dtypes.py:517: FutureWarning: Passing (type, 1) or '1type' as a synonym of type is deprecated; in a future version of numpy, it will be understood as (type, (1,)) / '(1,)type'.\n",
      "  _np_quint8 = np.dtype([(\"quint8\", np.uint8, 1)])\n",
      "C:\\Users\\mohit\\Anaconda3\\lib\\site-packages\\tensorflow\\python\\framework\\dtypes.py:518: FutureWarning: Passing (type, 1) or '1type' as a synonym of type is deprecated; in a future version of numpy, it will be understood as (type, (1,)) / '(1,)type'.\n",
      "  _np_qint16 = np.dtype([(\"qint16\", np.int16, 1)])\n",
      "C:\\Users\\mohit\\Anaconda3\\lib\\site-packages\\tensorflow\\python\\framework\\dtypes.py:519: FutureWarning: Passing (type, 1) or '1type' as a synonym of type is deprecated; in a future version of numpy, it will be understood as (type, (1,)) / '(1,)type'.\n",
      "  _np_quint16 = np.dtype([(\"quint16\", np.uint16, 1)])\n",
      "C:\\Users\\mohit\\Anaconda3\\lib\\site-packages\\tensorflow\\python\\framework\\dtypes.py:520: FutureWarning: Passing (type, 1) or '1type' as a synonym of type is deprecated; in a future version of numpy, it will be understood as (type, (1,)) / '(1,)type'.\n",
      "  _np_qint32 = np.dtype([(\"qint32\", np.int32, 1)])\n",
      "C:\\Users\\mohit\\Anaconda3\\lib\\site-packages\\tensorflow\\python\\framework\\dtypes.py:525: FutureWarning: Passing (type, 1) or '1type' as a synonym of type is deprecated; in a future version of numpy, it will be understood as (type, (1,)) / '(1,)type'.\n",
      "  np_resource = np.dtype([(\"resource\", np.ubyte, 1)])\n",
      "C:\\Users\\mohit\\Anaconda3\\lib\\site-packages\\tensorboard\\compat\\tensorflow_stub\\dtypes.py:541: FutureWarning: Passing (type, 1) or '1type' as a synonym of type is deprecated; in a future version of numpy, it will be understood as (type, (1,)) / '(1,)type'.\n",
      "  _np_qint8 = np.dtype([(\"qint8\", np.int8, 1)])\n",
      "C:\\Users\\mohit\\Anaconda3\\lib\\site-packages\\tensorboard\\compat\\tensorflow_stub\\dtypes.py:542: FutureWarning: Passing (type, 1) or '1type' as a synonym of type is deprecated; in a future version of numpy, it will be understood as (type, (1,)) / '(1,)type'.\n",
      "  _np_quint8 = np.dtype([(\"quint8\", np.uint8, 1)])\n",
      "C:\\Users\\mohit\\Anaconda3\\lib\\site-packages\\tensorboard\\compat\\tensorflow_stub\\dtypes.py:543: FutureWarning: Passing (type, 1) or '1type' as a synonym of type is deprecated; in a future version of numpy, it will be understood as (type, (1,)) / '(1,)type'.\n",
      "  _np_qint16 = np.dtype([(\"qint16\", np.int16, 1)])\n",
      "C:\\Users\\mohit\\Anaconda3\\lib\\site-packages\\tensorboard\\compat\\tensorflow_stub\\dtypes.py:544: FutureWarning: Passing (type, 1) or '1type' as a synonym of type is deprecated; in a future version of numpy, it will be understood as (type, (1,)) / '(1,)type'.\n",
      "  _np_quint16 = np.dtype([(\"quint16\", np.uint16, 1)])\n",
      "C:\\Users\\mohit\\Anaconda3\\lib\\site-packages\\tensorboard\\compat\\tensorflow_stub\\dtypes.py:545: FutureWarning: Passing (type, 1) or '1type' as a synonym of type is deprecated; in a future version of numpy, it will be understood as (type, (1,)) / '(1,)type'.\n",
      "  _np_qint32 = np.dtype([(\"qint32\", np.int32, 1)])\n",
      "C:\\Users\\mohit\\Anaconda3\\lib\\site-packages\\tensorboard\\compat\\tensorflow_stub\\dtypes.py:550: FutureWarning: Passing (type, 1) or '1type' as a synonym of type is deprecated; in a future version of numpy, it will be understood as (type, (1,)) / '(1,)type'.\n",
      "  np_resource = np.dtype([(\"resource\", np.ubyte, 1)])\n"
     ]
    }
   ],
   "source": [
    "import tensorflow as tf\n",
    "import numpy as np\n",
    "from tensorflow import keras"
   ]
  },
  {
   "cell_type": "code",
   "execution_count": 4,
   "metadata": {},
   "outputs": [
    {
     "name": "stdout",
     "output_type": "stream",
     "text": [
      "Downloading data from https://storage.googleapis.com/tensorflow/tf-keras-datasets/train-labels-idx1-ubyte.gz\n",
      "32768/29515 [=================================] - 0s 1us/step\n",
      "Downloading data from https://storage.googleapis.com/tensorflow/tf-keras-datasets/train-images-idx3-ubyte.gz\n",
      "26427392/26421880 [==============================] - 31s 1us/step\n",
      "Downloading data from https://storage.googleapis.com/tensorflow/tf-keras-datasets/t10k-labels-idx1-ubyte.gz\n",
      "8192/5148 [===============================================] - 0s 0s/step\n",
      "Downloading data from https://storage.googleapis.com/tensorflow/tf-keras-datasets/t10k-images-idx3-ubyte.gz\n",
      "4423680/4422102 [==============================] - 5s 1us/step\n"
     ]
    }
   ],
   "source": [
    "mnist = tf.keras.datasets.fashion_mnist\n",
    "(training_images, training_labels), (test_images, test_labels) = mnist.load_data()"
   ]
  },
  {
   "cell_type": "code",
   "execution_count": 5,
   "metadata": {},
   "outputs": [
    {
     "name": "stdout",
     "output_type": "stream",
     "text": [
      "0\n",
      "[[  0   0   0   0   0   0   0  11 142 200 106   0   0   0   0   0   0   0\n",
      "   85 185 112   0   0   0   0   0   0   0]\n",
      " [  0   0   0   0   0   0 152 214 217 194 236 216 187 149 135 153 211 217\n",
      "  231 205 217 188  34   0   0   0   0   0]\n",
      " [  0   0   0   0   0  66 185 166 180 181 190 211 221 197 146 198 206 191\n",
      "  168 190 172 188 175   0   0   0   0   0]\n",
      " [  0   0   0   0   0 135 153 160 175 180 170 186 187 190 188 190 187 174\n",
      "  195 185 174 161 175  59   0   0   0   0]\n",
      " [  0   0   0   0   0 161 147 160 170 178 177 180 168 173 174 171 185 184\n",
      "  185 172 171 164 174 120   0   0   0   0]\n",
      " [  0   0   0   0   2 175 146 145 168 178 181 185 180 184 178 179 187 191\n",
      "  193 190 181 171 172 158   0   0   0   0]\n",
      " [  0   0   0   0  35 177 155 140 151 172 191 187 186 187 186 187 182 191\n",
      "  194 188 180 161 161 185   0   0   0   0]\n",
      " [  0   0   0   0  59 170 153 141 120 154 160 161 172 168 166 161 165 172\n",
      "  170 164 139 149 162 166  21   0   0   0]\n",
      " [  0   0   0   0  79 145 160 214 123 128 153 160 164 158 157 154 155 170\n",
      "  165 141 195 193 152 166  61   0   0   0]\n",
      " [  0   0   0   0 100 157 225 245 175 113 174 158 158 160 155 160 164 178\n",
      "  188 135 185 240 201 172 108   0   0   0]\n",
      " [  0   0   0   0   0  31 174  28 126 153 166 152 158 158 160 161 157 168\n",
      "  191 188  18 132 159   7   0   0   0   0]\n",
      " [  0   0   0   0   0   0   0   0  82 187 159 153 157 158 162 164 164 154\n",
      "  187 190   0   0   0   0   0   0   0   0]\n",
      " [  0   0   0   0   1   3   5   0  37 175 158 155 162 158 160 162 165 153\n",
      "  177 205   0   0   3   3   0   0   0   0]\n",
      " [  0   0   0   0   0   0   1   0  25 175 152 160 158 161 160 164 164 161\n",
      "  166 200   0   0   1   0   0   0   0   0]\n",
      " [  0   0   0   0   0   0   4   0  30 171 147 164 155 165 161 165 162 170\n",
      "  164 162   0   0   2   0   0   0   0   0]\n",
      " [  0   0   0   0   0   0   4   0  57 166 155 164 166 161 161 164 167 165\n",
      "  165 162  28   0   3   0   0   0   0   0]\n",
      " [  0   0   0   0   0   0   3   0 114 161 161 166 159 168 161 161 172 162\n",
      "  165 171  50   0   5   0   0   0   0   0]\n",
      " [  0   0   0   0   0   0   1   0 149 157 167 172 159 172 164 161 172 170\n",
      "  160 171  89   0   4   0   0   0   0   0]\n",
      " [  0   0   0   0   0   2   0   4 171 164 166 173 159 179 166 160 174 167\n",
      "  162 166 128   0   2   0   0   0   0   0]\n",
      " [  0   0   0   0   0   3   0  18 152 173 160 179 154 181 166 164 175 170\n",
      "  166 170 164   0   0   1   0   0   0   0]\n",
      " [  0   0   0   0   0   4   0  47 165 172 167 185 153 187 173 165 174 179\n",
      "  166 166 158   5   0   3   0   0   0   0]\n",
      " [  0   0   0   0   0   4   0  87 180 162 179 179 157 191 182 165 168 190\n",
      "  173 165 166  20   0   4   0   0   0   0]\n",
      " [  0   0   0   0   0   4   0 105 187 157 194 175 161 190 184 170 158 205\n",
      "  177 168 171  44   0   4   0   0   0   0]\n",
      " [  0   0   0   0   0   5   0 138 181 158 205 160 167 190 198 167 152 218\n",
      "  186 170 172  57   0   5   0   0   0   0]\n",
      " [  0   0   0   0   0   5   0 135 174 167 199 155 166 201 219 165 158 218\n",
      "  188 167 175  56   0   7   0   0   0   0]\n",
      " [  0   0   0   0   0   5   0 129 171 172 177 153 159 206 216 148 157 206\n",
      "  190 165 175  48   0   5   0   0   0   0]\n",
      " [  0   0   0   0   0   5   0 167 187 182 198 194 200 226 240 184 206 255\n",
      "  197 178 179  42   0   5   0   0   0   0]\n",
      " [  0   0   0   0   0   3   0 115 135 113 106  85  82 108 133  83  90 121\n",
      "  120 110 158  18   0   3   0   0   0   0]]\n"
     ]
    },
    {
     "data": {
      "image/png": "[encoded data removed]",
      "text/plain": [
       "<Figure size 432x288 with 1 Axes>"
      ]
     },
     "metadata": {
      "needs_background": "light"
     },
     "output_type": "display_data"
    }
   ],
   "source": [
    "import matplotlib.pyplot as plt\n",
    "plt.imshow(training_images[10])\n",
    "print(training_labels[10])\n",
    "print(training_images[10])"
   ]
  },
  {
   "cell_type": "code",
   "execution_count": 6,
   "metadata": {},
   "outputs": [],
   "source": [
    "training_images  = training_images / 255.0\n",
    "test_images = test_images / 255.0"
   ]
  },
  {
   "cell_type": "code",
   "execution_count": 7,
   "metadata": {},
   "outputs": [
    {
     "name": "stdout",
     "output_type": "stream",
     "text": [
      "WARNING:tensorflow:From C:\\Users\\mohit\\Anaconda3\\lib\\site-packages\\tensorflow\\python\\ops\\init_ops.py:1251: calling VarianceScaling.__init__ (from tensorflow.python.ops.init_ops) with dtype is deprecated and will be removed in a future version.\n",
      "Instructions for updating:\n",
      "Call initializer instance with the dtype argument instead of passing it to the constructor\n"
     ]
    }
   ],
   "source": [
    "model = tf.keras.models.Sequential([tf.keras.layers.Flatten(), \n",
    "                                    tf.keras.layers.Dense(128, activation=tf.nn.relu), \n",
    "                                    tf.keras.layers.Dense(10, activation=tf.nn.softmax)])"
   ]
  },
  {
   "cell_type": "code",
   "execution_count": 8,
   "metadata": {},
   "outputs": [
    {
     "name": "stdout",
     "output_type": "stream",
     "text": [
      "Epoch 1/10\n",
      "60000/60000 [==============================] - 3s 43us/sample - loss: 0.5028 - acc: 0.8245\n",
      "Epoch 2/10\n",
      "60000/60000 [==============================] - 3s 44us/sample - loss: 0.3735 - acc: 0.8655\n",
      "Epoch 3/10\n",
      "60000/60000 [==============================] - 2s 38us/sample - loss: 0.3359 - acc: 0.8782\n",
      "Epoch 4/10\n",
      "60000/60000 [==============================] - 2s 40us/sample - loss: 0.3118 - acc: 0.8858\n",
      "Epoch 5/10\n",
      "60000/60000 [==============================] - 2s 38us/sample - loss: 0.2949 - acc: 0.8912\n",
      "Epoch 6/10\n",
      "60000/60000 [==============================] - 2s 41us/sample - loss: 0.2805 - acc: 0.8954\n",
      "Epoch 7/10\n",
      "60000/60000 [==============================] - 3s 44us/sample - loss: 0.2677 - acc: 0.9007\n",
      "Epoch 8/10\n",
      "60000/60000 [==============================] - 2s 38us/sample - loss: 0.2566 - acc: 0.9031\n",
      "Epoch 9/10\n",
      "60000/60000 [==============================] - 2s 36us/sample - loss: 0.2489 - acc: 0.9080\n",
      "Epoch 10/10\n",
      "60000/60000 [==============================] - 2s 37us/sample - loss: 0.2383 - acc: 0.9121\n"
     ]
    },
    {
     "data": {
      "text/plain": [
       "<tensorflow.python.keras.callbacks.History at 0x1cec8fb0828>"
      ]
     },
     "execution_count": 8,
     "metadata": {},
     "output_type": "execute_result"
    }
   ],
   "source": [
    "model.compile(optimizer = tf.train.AdamOptimizer(),\n",
    "              loss = 'sparse_categorical_crossentropy',\n",
    "              metrics=['accuracy'])\n",
    "\n",
    "model.fit(training_images, training_labels, epochs=10)"
   ]
  },
  {
   "cell_type": "code",
   "execution_count": 9,
   "metadata": {},
   "outputs": [
    {
     "name": "stdout",
     "output_type": "stream",
     "text": [
      "10000/10000 [==============================] - 0s 28us/sample - loss: 0.3546 - acc: 0.8714\n"
     ]
    },
    {
     "data": {
      "text/plain": [
       "[0.3545931506872177, 0.8714]"
      ]
     },
     "execution_count": 9,
     "metadata": {},
     "output_type": "execute_result"
    }
   ],
   "source": [
    "model.evaluate(test_images, test_labels)"
   ]
  },
  {
   "cell_type": "code",
   "execution_count": null,
   "metadata": {},
   "outputs": [],
   "source": []
  }
 ],
 "metadata": {
  "kernelspec": {
   "display_name": "Python 3",
   "language": "python",
   "name": "python3"
  },
  "language_info": {
   "codemirror_mode": {
    "name": "ipython",
    "version": 3
   },
   "file_extension": ".py",
   "mimetype": "text/x-python",
   "name": "python",
   "nbconvert_exporter": "python",
   "pygments_lexer": "ipython3",
   "version": "3.7.1"
  }
 },
 "nbformat": 4,
 "nbformat_minor": 2
}
